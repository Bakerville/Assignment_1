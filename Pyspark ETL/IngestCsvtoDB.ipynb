{
 "cells": [
  {
   "cell_type": "code",
   "execution_count": 1,
   "metadata": {},
   "outputs": [],
   "source": [
    "from pyspark.sql import SparkSession\n",
    "import pandas as pd\n",
    "from pyspark.sql.types import IntegerType, StringType, DoubleType, StructField, StructType"
   ]
  },
  {
   "cell_type": "code",
   "execution_count": 2,
   "metadata": {},
   "outputs": [
    {
     "data": {
      "text/plain": [
       "'c:\\\\Users\\\\Admin\\\\anaconda3\\\\envs\\\\myenv\\\\python.exe'"
      ]
     },
     "execution_count": 2,
     "metadata": {},
     "output_type": "execute_result"
    }
   ],
   "source": [
    "import sys\n",
    "sys.executable"
   ]
  },
  {
   "cell_type": "code",
   "execution_count": 3,
   "metadata": {},
   "outputs": [],
   "source": [
    "spark = SparkSession.builder.master(\"local[1]\")\\\n",
    "                .config(\"spark.driver.extraClassPath\", \"../jars/sqljdbc41.jar\")\\\n",
    "                .config('spark.executor.extraClassPath', \"../jars/sqljdbc41.jar\")\\\n",
    "                .config(\"spark.jars\", \"./jars/sqljdbc41.jar\")\\\n",
    "                .appName(\"SparkETL.com\")\\\n",
    "                .getOrCreate()\n"
   ]
  },
  {
   "cell_type": "code",
   "execution_count": 4,
   "metadata": {},
   "outputs": [
    {
     "data": {
      "text/plain": [
       "[('spark.driver.extraJavaOptions',\n",
       "  '-Djava.net.preferIPv6Addresses=false -XX:+IgnoreUnrecognizedVMOptions --add-opens=java.base/java.lang=ALL-UNNAMED --add-opens=java.base/java.lang.invoke=ALL-UNNAMED --add-opens=java.base/java.lang.reflect=ALL-UNNAMED --add-opens=java.base/java.io=ALL-UNNAMED --add-opens=java.base/java.net=ALL-UNNAMED --add-opens=java.base/java.nio=ALL-UNNAMED --add-opens=java.base/java.util=ALL-UNNAMED --add-opens=java.base/java.util.concurrent=ALL-UNNAMED --add-opens=java.base/java.util.concurrent.atomic=ALL-UNNAMED --add-opens=java.base/jdk.internal.ref=ALL-UNNAMED --add-opens=java.base/sun.nio.ch=ALL-UNNAMED --add-opens=java.base/sun.nio.cs=ALL-UNNAMED --add-opens=java.base/sun.security.action=ALL-UNNAMED --add-opens=java.base/sun.util.calendar=ALL-UNNAMED --add-opens=java.security.jgss/sun.security.krb5=ALL-UNNAMED -Djdk.reflect.useDirectMethodHandle=false'),\n",
       " ('spark.executor.id', 'driver'),\n",
       " ('spark.app.id', 'local-1715737824079'),\n",
       " ('spark.app.submitTime', '1715737822762'),\n",
       " ('spark.jars', './jars/sqljdbc41.jar'),\n",
       " ('spark.driver.host', '192.168.128.78'),\n",
       " ('spark.repl.local.jars',\n",
       "  'file:/C:/Users/Admin/Desktop/Assignment/Pyspark%20ETL/jars/sqljdbc41.jar'),\n",
       " ('spark.rdd.compress', 'True'),\n",
       " ('spark.executor.extraJavaOptions',\n",
       "  '-Djava.net.preferIPv6Addresses=false -XX:+IgnoreUnrecognizedVMOptions --add-opens=java.base/java.lang=ALL-UNNAMED --add-opens=java.base/java.lang.invoke=ALL-UNNAMED --add-opens=java.base/java.lang.reflect=ALL-UNNAMED --add-opens=java.base/java.io=ALL-UNNAMED --add-opens=java.base/java.net=ALL-UNNAMED --add-opens=java.base/java.nio=ALL-UNNAMED --add-opens=java.base/java.util=ALL-UNNAMED --add-opens=java.base/java.util.concurrent=ALL-UNNAMED --add-opens=java.base/java.util.concurrent.atomic=ALL-UNNAMED --add-opens=java.base/jdk.internal.ref=ALL-UNNAMED --add-opens=java.base/sun.nio.ch=ALL-UNNAMED --add-opens=java.base/sun.nio.cs=ALL-UNNAMED --add-opens=java.base/sun.security.action=ALL-UNNAMED --add-opens=java.base/sun.util.calendar=ALL-UNNAMED --add-opens=java.security.jgss/sun.security.krb5=ALL-UNNAMED -Djdk.reflect.useDirectMethodHandle=false'),\n",
       " ('spark.serializer.objectStreamReset', '100'),\n",
       " ('spark.app.name', 'SparkETL.com'),\n",
       " ('spark.submit.pyFiles', ''),\n",
       " ('spark.app.startTime', '1715737823014'),\n",
       " ('spark.executor.extraClassPath', '../jars/sqljdbc41.jar'),\n",
       " ('spark.driver.extraClassPath', '../jars/sqljdbc41.jar'),\n",
       " ('spark.submit.deployMode', 'client'),\n",
       " ('spark.ui.showConsoleProgress', 'true'),\n",
       " ('spark.master', 'local[1]'),\n",
       " ('spark.driver.port', '63200')]"
      ]
     },
     "execution_count": 4,
     "metadata": {},
     "output_type": "execute_result"
    }
   ],
   "source": [
    "spark.sparkContext.getConf().getAll()"
   ]
  },
  {
   "cell_type": "code",
   "execution_count": 5,
   "metadata": {},
   "outputs": [],
   "source": [
    "source_schema = StructType([\n",
    "        StructField(\"ID\", IntegerType(), False),\n",
    "        StructField(\"USERNAME\", StringType(), False),\n",
    "        StructField(\"NUMBER_FOLLOWS\", StringType(), False),\n",
    "        StructField(\"NUMBER_TRACKS\", StringType(), False),\n",
    "        StructField(\"LINK\", StringType(), False)])"
   ]
  },
  {
   "cell_type": "code",
   "execution_count": 6,
   "metadata": {},
   "outputs": [
    {
     "name": "stdout",
     "output_type": "stream",
     "text": [
      "+---+--------------------+-------------------+-------------+--------------------+\n",
      "| ID|            USERNAME|     NUMBER_FOLLOWS|NUMBER_TRACKS|                LINK|\n",
      "+---+--------------------+-------------------+-------------+--------------------+\n",
      "|  0|                   a|   14,973 followers|            0|https://soundclou...|\n",
      "|  1|            Hoodadk4|   15,935 followers|            0|https://soundclou...|\n",
      "|  2|           Sexyy Red|   45,021 followers|            0|https://soundclou...|\n",
      "|  3|               4batz|   34,867 followers|            0|https://soundclou...|\n",
      "|  4|         Sara Landry|   86,088 followers|            0|https://soundclou...|\n",
      "|  5|                AKON|  238,447 followers|            0|https://soundclou...|\n",
      "|  6|A BOOGIE WIT DA H...|1,587,348 followers|            0|https://soundclou...|\n",
      "|  7|           21 Savage|1,671,201 followers|            0|https://soundclou...|\n",
      "|  8|MC IG - 4M (CONTA...|    8,449 followers|            0|https://soundclou...|\n",
      "|  9|      Nico Morrisson|    9,158 followers|            0|https://soundclou...|\n",
      "| 10| Federico Maniscalco|    8,962 followers|            0|https://soundclou...|\n",
      "| 11|            PK Sonik|    8,067 followers|            0|https://soundclou...|\n",
      "| 12|      4Traxx500Music|   33,765 followers|            0|https://soundclou...|\n",
      "| 13|        Enigsmast1ck|    5,151 followers|            0|https://soundclou...|\n",
      "| 14|       Dj PixelStorm|    4,809 followers|            0|https://soundclou...|\n",
      "| 15|          Subtronics|  192,769 followers|            0|https://soundclou...|\n",
      "| 16|         Volume Unit|   20,961 followers|            0|https://soundclou...|\n",
      "| 17|             SoFaygo|  246,266 followers|            0|https://soundclou...|\n",
      "| 18|   B L A C K K R A Y|  133,563 followers|            0|https://soundclou...|\n",
      "| 19|    Armin van Buuren|1,135,077 followers|            0|https://soundclou...|\n",
      "+---+--------------------+-------------------+-------------+--------------------+\n",
      "only showing top 20 rows\n",
      "\n"
     ]
    }
   ],
   "source": [
    "source_df = spark.read.options(delimiter=',').csv(\"Soundcloud_User.csv\", schema=source_schema,header=True)\n",
    "source_df.show()"
   ]
  },
  {
   "cell_type": "code",
   "execution_count": null,
   "metadata": {},
   "outputs": [],
   "source": []
  },
  {
   "cell_type": "code",
   "execution_count": 7,
   "metadata": {},
   "outputs": [],
   "source": [
    "from dotenv import load_dotenv, dotenv_values\n",
    "\n",
    "USERNAME = dotenv_values(\".env\").get(\"USERNAME\")\n",
    "HOST = dotenv_values(\".env\").get(\"HOST\")\n",
    "CONNECTION_STRING = dotenv_values(\".env\").get(\"CONNECTION_STRING\")\n",
    "PASSWORD = dotenv_values(\".env\").get(\"PASSWORD\")\n",
    "TABLE_NAME = 'CustomerSource'\n",
    "\n",
    "url = f\"jdbc:sqlserver://{HOST}:1433;database=SoundCloud\"\n",
    "properties = {\n",
    "    \"user\": dotenv_values('.env').get('USERNAME'),\n",
    "    \"password\": dotenv_values('.env').get('PASSWORD'),\n",
    "    \"driver\": \"com.microsoft.sqlserver.jdbc.SQLServerDriver\"\n",
    "}"
   ]
  },
  {
   "cell_type": "code",
   "execution_count": 8,
   "metadata": {},
   "outputs": [],
   "source": [
    "df = spark.read \\\n",
    "  .format(\"jdbc\") \\\n",
    "  .option(\"driver\",\"com.microsoft.sqlserver.jdbc.SQLServerDriver\") \\\n",
    "  .option(\"url\", url) \\\n",
    "  .option(\"dbtable\", \"[dbo].[User]\") \\\n",
    "  .option(\"user\", USERNAME) \\\n",
    "  .option(\"password\", PASSWORD) \\\n",
    "  .load()\n",
    "\n",
    "  "
   ]
  },
  {
   "cell_type": "code",
   "execution_count": 9,
   "metadata": {},
   "outputs": [
    {
     "name": "stdout",
     "output_type": "stream",
     "text": [
      "+---+--------------------+-------------+------------+--------------------+\n",
      "| Id|            Username|NumberFollows|NumberTracks|                Link|\n",
      "+---+--------------------+-------------+------------+--------------------+\n",
      "|  0|                   a|        14973|           0|https://soundclou...|\n",
      "|  1|            Hoodadk4|        15935|           0|https://soundclou...|\n",
      "|  2|           Sexyy Red|        45021|           0|https://soundclou...|\n",
      "|  3|               4batz|        34867|           0|https://soundclou...|\n",
      "|  4|         Sara Landry|        86088|           0|https://soundclou...|\n",
      "|  5|                AKON|       238447|           0|https://soundclou...|\n",
      "|  6|A BOOGIE WIT DA H...|      1587348|           0|https://soundclou...|\n",
      "|  7|           21 Savage|      1671201|           0|https://soundclou...|\n",
      "|  8|MC IG - 4M (CONTA...|         8449|           0|https://soundclou...|\n",
      "|  9|      Nico Morrisson|         9158|           0|https://soundclou...|\n",
      "| 10| Federico Maniscalco|         8962|           0|https://soundclou...|\n",
      "| 11|            PK Sonik|         8067|           0|https://soundclou...|\n",
      "| 12|      4Traxx500Music|        33765|           0|https://soundclou...|\n",
      "| 13|        Enigsmast1ck|         5151|           0|https://soundclou...|\n",
      "| 14|       Dj PixelStorm|         4809|           0|https://soundclou...|\n",
      "| 15|          Subtronics|       192769|           0|https://soundclou...|\n",
      "| 16|         Volume Unit|        20961|           0|https://soundclou...|\n",
      "| 17|             SoFaygo|       246266|           0|https://soundclou...|\n",
      "| 18|   B L A C K K R A Y|       133563|           0|https://soundclou...|\n",
      "| 19|    Armin van Buuren|      1135077|           0|https://soundclou...|\n",
      "+---+--------------------+-------------+------------+--------------------+\n",
      "only showing top 20 rows\n",
      "\n"
     ]
    }
   ],
   "source": [
    "df.show()"
   ]
  },
  {
   "cell_type": "code",
   "execution_count": 10,
   "metadata": {},
   "outputs": [
    {
     "data": {
      "text/plain": [
       "[StructField('ID', IntegerType(), False),\n",
       " StructField('USERNAME', StringType(), False),\n",
       " StructField('NUMBER_FOLLOWS', StringType(), False),\n",
       " StructField('NUMBER_TRACKS', StringType(), False),\n",
       " StructField('LINK', StringType(), False)]"
      ]
     },
     "execution_count": 10,
     "metadata": {},
     "output_type": "execute_result"
    }
   ],
   "source": [
    "list(source_schema)"
   ]
  },
  {
   "cell_type": "code",
   "execution_count": 11,
   "metadata": {},
   "outputs": [],
   "source": [
    "source_df.write \\\n",
    "  .format(\"jdbc\") \\\n",
    "  .option(\"mode\",\"overwrite\")\\\n",
    "  .option(\"driver\",\"com.microsoft.sqlserver.jdbc.SQLServerDriver\") \\\n",
    "  .option(\"url\", url) \\\n",
    "  .option(\"dbtable\", TABLE_NAME) \\\n",
    "  .option(\"user\", USERNAME) \\\n",
    "  .option(\"password\", PASSWORD)\\\n",
    "  .save(mode=\"overwrite\")"
   ]
  },
  {
   "cell_type": "code",
   "execution_count": 12,
   "metadata": {},
   "outputs": [
    {
     "name": "stdout",
     "output_type": "stream",
     "text": [
      "+---+--------------------+-------------------+-------------+--------------------+\n",
      "| ID|            USERNAME|     NUMBER_FOLLOWS|NUMBER_TRACKS|                LINK|\n",
      "+---+--------------------+-------------------+-------------+--------------------+\n",
      "|  0|                   a|   14,973 followers|            0|https://soundclou...|\n",
      "|  1|            Hoodadk4|   15,935 followers|            0|https://soundclou...|\n",
      "|  2|           Sexyy Red|   45,021 followers|            0|https://soundclou...|\n",
      "|  3|               4batz|   34,867 followers|            0|https://soundclou...|\n",
      "|  4|         Sara Landry|   86,088 followers|            0|https://soundclou...|\n",
      "|  5|                AKON|  238,447 followers|            0|https://soundclou...|\n",
      "|  6|A BOOGIE WIT DA H...|1,587,348 followers|            0|https://soundclou...|\n",
      "|  7|           21 Savage|1,671,201 followers|            0|https://soundclou...|\n",
      "|  8|MC IG - 4M (CONTA...|    8,449 followers|            0|https://soundclou...|\n",
      "|  9|      Nico Morrisson|    9,158 followers|            0|https://soundclou...|\n",
      "| 10| Federico Maniscalco|    8,962 followers|            0|https://soundclou...|\n",
      "| 11|            PK Sonik|    8,067 followers|            0|https://soundclou...|\n",
      "| 12|      4Traxx500Music|   33,765 followers|            0|https://soundclou...|\n",
      "| 13|        Enigsmast1ck|    5,151 followers|            0|https://soundclou...|\n",
      "| 14|       Dj PixelStorm|    4,809 followers|            0|https://soundclou...|\n",
      "| 15|          Subtronics|  192,769 followers|            0|https://soundclou...|\n",
      "| 16|         Volume Unit|   20,961 followers|            0|https://soundclou...|\n",
      "| 17|             SoFaygo|  246,266 followers|            0|https://soundclou...|\n",
      "| 18|   B L A C K K R A Y|  133,563 followers|            0|https://soundclou...|\n",
      "| 19|    Armin van Buuren|1,135,077 followers|            0|https://soundclou...|\n",
      "+---+--------------------+-------------------+-------------+--------------------+\n",
      "only showing top 20 rows\n",
      "\n"
     ]
    }
   ],
   "source": [
    "source_df.show()"
   ]
  },
  {
   "cell_type": "code",
   "execution_count": 13,
   "metadata": {},
   "outputs": [
    {
     "name": "stdout",
     "output_type": "stream",
     "text": [
      "+---+--------------------+-------------------+-------------+--------------------+------------------+\n",
      "| ID|            USERNAME|     NUMBER_FOLLOWS|NUMBER_TRACKS|                LINK|NEW_NUMBER_FOLLOWS|\n",
      "+---+--------------------+-------------------+-------------+--------------------+------------------+\n",
      "|  0|                   a|   14,973 followers|            0|https://soundclou...|            14,973|\n",
      "|  1|            Hoodadk4|   15,935 followers|            0|https://soundclou...|            15,935|\n",
      "|  2|           Sexyy Red|   45,021 followers|            0|https://soundclou...|            45,021|\n",
      "|  3|               4batz|   34,867 followers|            0|https://soundclou...|            34,867|\n",
      "|  4|         Sara Landry|   86,088 followers|            0|https://soundclou...|            86,088|\n",
      "|  5|                AKON|  238,447 followers|            0|https://soundclou...|           238,447|\n",
      "|  6|A BOOGIE WIT DA H...|1,587,348 followers|            0|https://soundclou...|         1,587,348|\n",
      "|  7|           21 Savage|1,671,201 followers|            0|https://soundclou...|         1,671,201|\n",
      "|  8|MC IG - 4M (CONTA...|    8,449 followers|            0|https://soundclou...|             8,449|\n",
      "|  9|      Nico Morrisson|    9,158 followers|            0|https://soundclou...|             9,158|\n",
      "| 10| Federico Maniscalco|    8,962 followers|            0|https://soundclou...|             8,962|\n",
      "| 11|            PK Sonik|    8,067 followers|            0|https://soundclou...|             8,067|\n",
      "| 12|      4Traxx500Music|   33,765 followers|            0|https://soundclou...|            33,765|\n",
      "| 13|        Enigsmast1ck|    5,151 followers|            0|https://soundclou...|             5,151|\n",
      "| 14|       Dj PixelStorm|    4,809 followers|            0|https://soundclou...|             4,809|\n",
      "| 15|          Subtronics|  192,769 followers|            0|https://soundclou...|           192,769|\n",
      "| 16|         Volume Unit|   20,961 followers|            0|https://soundclou...|            20,961|\n",
      "| 17|             SoFaygo|  246,266 followers|            0|https://soundclou...|           246,266|\n",
      "| 18|   B L A C K K R A Y|  133,563 followers|            0|https://soundclou...|           133,563|\n",
      "| 19|    Armin van Buuren|1,135,077 followers|            0|https://soundclou...|         1,135,077|\n",
      "+---+--------------------+-------------------+-------------+--------------------+------------------+\n",
      "only showing top 20 rows\n",
      "\n"
     ]
    }
   ],
   "source": [
    "\n",
    "from pyspark.sql.functions import split, regexp_replace\n",
    "from pyspark.sql.functions import col\n",
    "\n",
    "def extract_number_follow(value):\n",
    "    return split(value,\" \").getItem(0)\n",
    "df=source_df.withColumn(\"NEW_NUMBER_FOLLOWS\",extract_number_follow(source_df.NUMBER_FOLLOWS))\n",
    "df.show()\n"
   ]
  },
  {
   "cell_type": "code",
   "execution_count": 14,
   "metadata": {},
   "outputs": [],
   "source": [
    "df.createOrReplaceTempView(\"soundcloud\")"
   ]
  },
  {
   "cell_type": "code",
   "execution_count": 15,
   "metadata": {},
   "outputs": [],
   "source": [
    "df_2 = spark.sql(\"\"\"\n",
    "    Select *, cast(replace(new_number_follows,',','') as INT) as DB_FOLLOWS\n",
    "    from soundcloud\n",
    "\n",
    "\"\"\")\n",
    "\n",
    "df_2.createOrReplaceTempView(\"transformed_data\")"
   ]
  },
  {
   "cell_type": "code",
   "execution_count": 16,
   "metadata": {},
   "outputs": [],
   "source": [
    "destination = spark.sql(\"\"\"SELECT username, db_follows, number_tracks, link from transformed_data \"\"\")"
   ]
  },
  {
   "cell_type": "code",
   "execution_count": 17,
   "metadata": {},
   "outputs": [
    {
     "name": "stdout",
     "output_type": "stream",
     "text": [
      "+--------------------+----------+-------------+--------------------+\n",
      "|            username|db_follows|number_tracks|                link|\n",
      "+--------------------+----------+-------------+--------------------+\n",
      "|                   a|     14973|            0|https://soundclou...|\n",
      "|            Hoodadk4|     15935|            0|https://soundclou...|\n",
      "|           Sexyy Red|     45021|            0|https://soundclou...|\n",
      "|               4batz|     34867|            0|https://soundclou...|\n",
      "|         Sara Landry|     86088|            0|https://soundclou...|\n",
      "|                AKON|    238447|            0|https://soundclou...|\n",
      "|A BOOGIE WIT DA H...|   1587348|            0|https://soundclou...|\n",
      "|           21 Savage|   1671201|            0|https://soundclou...|\n",
      "|MC IG - 4M (CONTA...|      8449|            0|https://soundclou...|\n",
      "|      Nico Morrisson|      9158|            0|https://soundclou...|\n",
      "| Federico Maniscalco|      8962|            0|https://soundclou...|\n",
      "|            PK Sonik|      8067|            0|https://soundclou...|\n",
      "|      4Traxx500Music|     33765|            0|https://soundclou...|\n",
      "|        Enigsmast1ck|      5151|            0|https://soundclou...|\n",
      "|       Dj PixelStorm|      4809|            0|https://soundclou...|\n",
      "|          Subtronics|    192769|            0|https://soundclou...|\n",
      "|         Volume Unit|     20961|            0|https://soundclou...|\n",
      "|             SoFaygo|    246266|            0|https://soundclou...|\n",
      "|   B L A C K K R A Y|    133563|            0|https://soundclou...|\n",
      "|    Armin van Buuren|   1135077|            0|https://soundclou...|\n",
      "+--------------------+----------+-------------+--------------------+\n",
      "only showing top 20 rows\n",
      "\n"
     ]
    }
   ],
   "source": [
    "destination.show()"
   ]
  },
  {
   "cell_type": "code",
   "execution_count": 18,
   "metadata": {},
   "outputs": [
    {
     "data": {
      "text/plain": [
       "StructType([StructField('username', StringType(), True), StructField('db_follows', IntegerType(), True), StructField('number_tracks', StringType(), True), StructField('link', StringType(), True)])"
      ]
     },
     "execution_count": 18,
     "metadata": {},
     "output_type": "execute_result"
    }
   ],
   "source": [
    "destination.schema"
   ]
  },
  {
   "cell_type": "code",
   "execution_count": 19,
   "metadata": {},
   "outputs": [],
   "source": [
    "from packages.ExtractLoad import ExtractLoadFiletoDB\n",
    "from packages.Transform import Transform\n",
    "from dotenv import load_dotenv, dotenv_values\n",
    "from pyspark.sql.types import IntegerType, StringType, DoubleType, StructField, StructType\n",
    "\n",
    "source_schema = StructType([\n",
    "        StructField(\"ID\", IntegerType(), False),\n",
    "        StructField(\"USERNAME\", StringType(), False),\n",
    "        StructField(\"NUMBER_FOLLOWS\",StringType(), False),\n",
    "        StructField(\"NUMBER_TRACKS\", IntegerType(), False),\n",
    "        StructField(\"LINK\", StringType(), False)])\n",
    "        \n",
    "FILEPATH = \"Soundcloud_User.csv\"\n",
    "\n",
    "USERNAME = dotenv_values(\".env\").get(\"USERNAME\")\n",
    "HOST = dotenv_values(\".env\").get(\"HOST\")\n",
    "CONNECTION_STRING = dotenv_values(\".env\").get(\"CONNECTION_STRING\")\n",
    "PASSWORD = dotenv_values(\".env\").get(\"PASSWORD\")\n",
    "\n",
    "URL = dotenv_values(\".env\").get(\"URL\")\n",
    "\n",
    "# Extract data from local and create a spark session\n",
    "IngestProcess = ExtractLoadFiletoDB()\n",
    "\n",
    "IngestProcess.createSparkSession(masterName=\"local[1]\", appName=\"ETLSpark.com\", driverPos=\"./jars/sqljdbc42.jar\")\n",
    "\n",
    "IngestProcess.extractSourceFile(filePath=FILEPATH, delimiter=\",\", schema=source_schema)\n",
    "\n",
    "source = IngestProcess.sourceDataFrame\n",
    "\n",
    "spark = IngestProcess.spark\n",
    "\n",
    "# Transform daa\n",
    "TransformProcess = Transform(data= source, spark=spark)\n",
    "\n",
    "temp = TransformProcess.string_to_int(source, \"NUMBER_FOLLOWS\", \"DB_NUMBER_FOLLOWS\")\n",
    "\n",
    "temp_1 = TransformProcess.string_to_int(temp, \"NUMBER_TRACKS\", \"DB_NUMBER_TRACKS\")\n",
    "\n",
    "temp_2 = temp_1.withColumnRenamed(\"db_number_follows\",\"NumberFollows\").withColumnRenamed(\"db_number_tracks\",\"NumberTracks\")\n",
    "\n",
    "destination = temp_2.select(\"Id\",\"Username\", \"NumberFollows\", \"NumberTracks\", \"Link\")\n",
    "\n",
    "#Load data to table in database\n",
    "IngestProcess.createDBConnection(url = URL, username=USERNAME, password=PASSWORD)\n",
    "\n",
    "IngestProcess.writeDBTable(tablename=\"[dbo].[SoundCloudUser]\", dataframe=destination)\n",
    "\n"
   ]
  },
  {
   "cell_type": "code",
   "execution_count": 20,
   "metadata": {},
   "outputs": [
    {
     "name": "stdout",
     "output_type": "stream",
     "text": [
      "+---+--------------------+-------------+------------+--------------------+\n",
      "| Id|            Username|NumberFollows|NumberTracks|                Link|\n",
      "+---+--------------------+-------------+------------+--------------------+\n",
      "|  0|                   a|        14973|           0|https://soundclou...|\n",
      "|  1|            Hoodadk4|        15935|           0|https://soundclou...|\n",
      "|  2|           Sexyy Red|        45021|           0|https://soundclou...|\n",
      "|  3|               4batz|        34867|           0|https://soundclou...|\n",
      "|  4|         Sara Landry|        86088|           0|https://soundclou...|\n",
      "|  5|                AKON|       238447|           0|https://soundclou...|\n",
      "|  6|A BOOGIE WIT DA H...|      1587348|           0|https://soundclou...|\n",
      "|  7|           21 Savage|      1671201|           0|https://soundclou...|\n",
      "|  8|MC IG - 4M (CONTA...|         8449|           0|https://soundclou...|\n",
      "|  9|      Nico Morrisson|         9158|           0|https://soundclou...|\n",
      "| 10| Federico Maniscalco|         8962|           0|https://soundclou...|\n",
      "| 11|            PK Sonik|         8067|           0|https://soundclou...|\n",
      "| 12|      4Traxx500Music|        33765|           0|https://soundclou...|\n",
      "| 13|        Enigsmast1ck|         5151|           0|https://soundclou...|\n",
      "| 14|       Dj PixelStorm|         4809|           0|https://soundclou...|\n",
      "| 15|          Subtronics|       192769|           0|https://soundclou...|\n",
      "| 16|         Volume Unit|        20961|           0|https://soundclou...|\n",
      "| 17|             SoFaygo|       246266|           0|https://soundclou...|\n",
      "| 18|   B L A C K K R A Y|       133563|           0|https://soundclou...|\n",
      "| 19|    Armin van Buuren|      1135077|           0|https://soundclou...|\n",
      "+---+--------------------+-------------+------------+--------------------+\n",
      "only showing top 20 rows\n",
      "\n"
     ]
    }
   ],
   "source": [
    "destination.withColumnRenamed(\"db_number_follows\",\"NumberFollows\").withColumnRenamed(\"db_number_tracks\",\"NumberTracks\").show()"
   ]
  },
  {
   "cell_type": "code",
   "execution_count": null,
   "metadata": {},
   "outputs": [],
   "source": []
  }
 ],
 "metadata": {
  "kernelspec": {
   "display_name": "myenv",
   "language": "python",
   "name": "python3"
  },
  "language_info": {
   "codemirror_mode": {
    "name": "ipython",
    "version": 3
   },
   "file_extension": ".py",
   "mimetype": "text/x-python",
   "name": "python",
   "nbconvert_exporter": "python",
   "pygments_lexer": "ipython3",
   "version": "3.10.11"
  }
 },
 "nbformat": 4,
 "nbformat_minor": 2
}
